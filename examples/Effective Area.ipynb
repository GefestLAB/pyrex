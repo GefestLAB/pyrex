{
 "cells": [
  {
   "cell_type": "markdown",
   "metadata": {},
   "source": [
    "# Calculate Effective Area"
   ]
  },
  {
   "cell_type": "markdown",
   "metadata": {},
   "source": [
    "In this example we will calculate the effective area of a detector over a range of energies."
   ]
  },
  {
   "cell_type": "markdown",
   "metadata": {},
   "source": [
    "### WARNING:\n",
    "In order to finish reasonably quickly, the number of events thrown in this example is low. This means that there are likely not enough events to accurately represent the effective area of the detector. For an accurate measurement, the number of events must be increased, but this will need much more time to run in that case."
   ]
  },
  {
   "cell_type": "code",
   "execution_count": 1,
   "metadata": {},
   "outputs": [],
   "source": [
    "import numpy as np\n",
    "import matplotlib.pyplot as plt\n",
    "%matplotlib inline\n",
    "import pyrex\n",
    "import pyrex.custom.ara as ara"
   ]
  },
  {
   "cell_type": "markdown",
   "metadata": {},
   "source": [
    "First let's set the number of events that we will be throwing at each energy, and the energies we will be using. As stated in the warning, the number of events is set low to speed up the example, but that means the results are likely inaccurate."
   ]
  },
  {
   "cell_type": "code",
   "execution_count": 2,
   "metadata": {},
   "outputs": [],
   "source": [
    "n_events = 10\n",
    "energies = [1e8, 1e9, 1e10] # GeV"
   ]
  },
  {
   "cell_type": "markdown",
   "metadata": {},
   "source": [
    "Next, set up the detector to be measured. Here we use a single standard ARA station."
   ]
  },
  {
   "cell_type": "code",
   "execution_count": 3,
   "metadata": {},
   "outputs": [],
   "source": [
    "detector = ara.HexagonalGrid(station_type=ara.RegularStation,\n",
    "                             stations=1)\n",
    "detector.build_antennas(power_threshold=-6.15)"
   ]
  },
  {
   "cell_type": "markdown",
   "metadata": {},
   "source": [
    "Now set up a neutrino generator for each energy. Let's scale the generation volume by energy so that we're not wasting too much time generating neutrinos that will surely never trigger."
   ]
  },
  {
   "cell_type": "code",
   "execution_count": 4,
   "metadata": {},
   "outputs": [],
   "source": [
    "dimensions = [2500, 5000, 10000]\n",
    "generators = [pyrex.ShadowGenerator(dx=2*dim, dy=2*dim, dz=2800, energy=energy)\n",
    "              for energy, dim in zip(energies, dimensions)]"
   ]
  },
  {
   "cell_type": "markdown",
   "metadata": {},
   "source": [
    "And then set up the event kernels for each energy. Let's use the ArasimIce class as our ice model since it calculates attenuations faster at the loss of some accuracy."
   ]
  },
  {
   "cell_type": "code",
   "execution_count": 5,
   "metadata": {},
   "outputs": [],
   "source": [
    "kernels = [pyrex.EventKernel(generator=gen, antennas=detector,\n",
    "                             ice_model=pyrex.ice_model.ArasimIce)\n",
    "           for gen in generators]"
   ]
  },
  {
   "cell_type": "markdown",
   "metadata": {},
   "source": [
    "Now run each kernel and record the number of events from each that triggered the detector. In this case we'll set our trigger condition to 3/8 antennas triggering in a single polarization."
   ]
  },
  {
   "cell_type": "code",
   "execution_count": 6,
   "metadata": {},
   "outputs": [
    {
     "name": "stdout",
     "output_type": "stream",
     "text": [
      "Running energy 100000000.0\n",
      "0..n 1..n 2..n 3..n 4..n 5..n 6..n 7..n 8..n 9..n \n",
      "Running energy 1000000000.0\n",
      "0..n 1..n 2..y 3..n 4..n 5..n 6..n 7..n 8..n 9..n \n",
      "Running energy 10000000000.0\n",
      "0..n 1..n 2..n 3..n 4..n 5..n 6..n 7..n 8..n 9..n \n",
      "Done\n"
     ]
    }
   ],
   "source": [
    "triggers = np.zeros(len(energies))\n",
    "for i, kernel in enumerate(kernels):\n",
    "    print(\"Running energy\", energies[i])\n",
    "    for j in range(n_events):\n",
    "        print(j, \"..\", sep=\"\", end=\"\")\n",
    "        detector.clear(reset_noise=True)\n",
    "        particle = kernel.event()\n",
    "        triggered = detector.triggered(station_requirement=1,\n",
    "                                       polarized_antenna_requirement=3)\n",
    "        if triggered:\n",
    "            triggers[i] += 1\n",
    "            print(\"y\", end=\" \")\n",
    "        else:\n",
    "            print(\"n\", end=\" \")\n",
    "        \n",
    "        if j%10==9:\n",
    "            print(flush=True)\n",
    "print(\"Done\")"
   ]
  },
  {
   "cell_type": "markdown",
   "metadata": {},
   "source": [
    "Now that we have the trigger counts for each energy, we can calculate the effective volumes by scaling the trigger probability by the generation volume. Errors are calculated assuming poisson counting statistics."
   ]
  },
  {
   "cell_type": "code",
   "execution_count": 7,
   "metadata": {},
   "outputs": [],
   "source": [
    "generation_volumes = np.array([(2*dim)*(2*dim)*2800 for dim in dimensions])\n",
    "effective_volumes = triggers / n_events * generation_volumes\n",
    "volume_errors = np.sqrt(triggers) / n_events * generation_volumes"
   ]
  },
  {
   "cell_type": "code",
   "execution_count": 8,
   "metadata": {},
   "outputs": [
    {
     "data": {
      "image/png": "[encoded data removed]",
      "text/plain": [
       "<matplotlib.figure.Figure at 0x1c12ab0048>"
      ]
     },
     "metadata": {},
     "output_type": "display_data"
    }
   ],
   "source": [
    "plt.errorbar(energies, effective_volumes, yerr=volume_errors,\n",
    "             marker=\"o\", markersize=5, linestyle=\":\", capsize=5)\n",
    "ax = plt.gca()\n",
    "ax.set_xscale(\"log\")\n",
    "ax.set_yscale(\"log\")\n",
    "plt.title(\"Detector Effective Volume\")\n",
    "plt.xlabel(\"Shower Energy (GeV)\")\n",
    "plt.ylabel(\"Effective Volume (km^3)\")\n",
    "plt.show()"
   ]
  },
  {
   "cell_type": "markdown",
   "metadata": {},
   "source": [
    "Then from the effecitve volumes, we can calculate the effective areas. First we need to account for the fact that our energy is the shower energy and convert to the neutrino energy. Then the effective area is the probability of interaction in the ice volume times the effective volume. The probability of interaction in the ice volume is given by the interaction cross section times the density of the ice. Since the neutrino type is not specified in the simulation, calculate the cross section as a weighted average of neutrino cross sections."
   ]
  },
  {
   "cell_type": "code",
   "execution_count": 9,
   "metadata": {},
   "outputs": [],
   "source": [
    "nu_energies = 9/5*np.array(energies)\n",
    "ice_density = 0.92 # g/cm^3\n",
    "ice_density *= 1e15 # converted to g/km^3 = nucleons/km^3\n",
    "cross_sections = (pyrex.particle.CC_NU.cross_section(nu_energies) +\n",
    "                  3*pyrex.particle.NC_NU.cross_section(nu_energies) +\n",
    "                  pyrex.particle.CC_NUBAR.cross_section(nu_energies) +\n",
    "                  3*pyrex.particle.NC_NUBAR.cross_section(nu_energies)) / 8\n",
    "effective_areas = 6.022e23 * ice_density * cross_sections * effective_volumes\n",
    "effective_areas *= 1e-4 # converted from cm^2 to m^2\n",
    "area_errors = 6.022e23 * ice_density * cross_sections * volume_errors"
   ]
  },
  {
   "cell_type": "code",
   "execution_count": 10,
   "metadata": {},
   "outputs": [
    {
     "data": {
      "image/png": "[encoded data removed]",
      "text/plain": [
       "<matplotlib.figure.Figure at 0x10bf77c50>"
      ]
     },
     "metadata": {},
     "output_type": "display_data"
    }
   ],
   "source": [
    "plt.errorbar(nu_energies, effective_areas, area_errors,\n",
    "             marker=\"o\", markersize=5, linestyle=\":\", capsize=5)\n",
    "ax = plt.gca()\n",
    "ax.set_xscale(\"log\")\n",
    "ax.set_yscale(\"log\")\n",
    "plt.title(\"Detector Effective Area\")\n",
    "plt.xlabel(\"Neutrino Energy (GeV)\")\n",
    "plt.ylabel(\"Effective Area (m^2)\")\n",
    "plt.show()"
   ]
  },
  {
   "cell_type": "code",
   "execution_count": null,
   "metadata": {},
   "outputs": [],
   "source": []
  }
 ],
 "metadata": {
  "kernelspec": {
   "display_name": "Python 3",
   "language": "python",
   "name": "python3"
  },
  "language_info": {
   "codemirror_mode": {
    "name": "ipython",
    "version": 3
   },
   "file_extension": ".py",
   "mimetype": "text/x-python",
   "name": "python",
   "nbconvert_exporter": "python",
   "pygments_lexer": "ipython3",
   "version": "3.6.4"
  }
 },
 "nbformat": 4,
 "nbformat_minor": 2
}
